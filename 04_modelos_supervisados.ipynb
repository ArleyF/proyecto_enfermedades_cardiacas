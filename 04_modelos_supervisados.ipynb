{
 "cells": [
  {
   "cell_type": "markdown",
   "metadata": {},
   "source": [
    "## **Creación de modelos**"
   ]
  },
  {
   "cell_type": "markdown",
   "metadata": {},
   "source": [
    "### 0. Importando librerías"
   ]
  },
  {
   "cell_type": "code",
   "execution_count": 1,
   "metadata": {},
   "outputs": [],
   "source": [
    "import numpy as np\n",
    "import pandas as pd\n",
    "\n",
    "from sklearn.model_selection import train_test_split\n",
    "from sklearn.preprocessing import StandardScaler \n",
    "from sklearn import metrics\n",
    "\n",
    "from sklearn.linear_model import LogisticRegression\n",
    "from sklearn.neighbors import KNeighborsClassifier\n",
    "from sklearn.tree import DecisionTreeClassifier\n",
    "from sklearn.neural_network import MLPClassifier\n",
    "from sklearn.svm import SVC\n",
    "from sklearn.ensemble import RandomForestClassifier\n",
    "from sklearn.naive_bayes import GaussianNB\n",
    "import matplotlib.pyplot as plt\n"
   ]
  },
  {
   "cell_type": "markdown",
   "metadata": {},
   "source": [
    "### 1. Cargando los datos"
   ]
  },
  {
   "cell_type": "markdown",
   "metadata": {},
   "source": [
    "- Algunas partes del código son tomadas de este notebook: [Heart Disease Prediction](https://www.kaggle.com/code/andls555/heart-disease-prediction)\n",
    "- Son los datos limpiados en el notebook 03 y guardados en el repositorio en GitHub:"
   ]
  },
  {
   "cell_type": "code",
   "execution_count": 2,
   "metadata": {},
   "outputs": [],
   "source": [
    "url = \"https://raw.githubusercontent.com/ArleyF/proyecto_enfermedades_cardiacas/master/dataset/heart_2020_cleaned.csv\"\n",
    "df = pd.read_csv(url)"
   ]
  },
  {
   "cell_type": "code",
   "execution_count": 3,
   "metadata": {},
   "outputs": [
    {
     "data": {
      "text/html": [
       "<div>\n",
       "<style scoped>\n",
       "    .dataframe tbody tr th:only-of-type {\n",
       "        vertical-align: middle;\n",
       "    }\n",
       "\n",
       "    .dataframe tbody tr th {\n",
       "        vertical-align: top;\n",
       "    }\n",
       "\n",
       "    .dataframe thead th {\n",
       "        text-align: right;\n",
       "    }\n",
       "</style>\n",
       "<table border=\"1\" class=\"dataframe\">\n",
       "  <thead>\n",
       "    <tr style=\"text-align: right;\">\n",
       "      <th></th>\n",
       "      <th>HeartDisease</th>\n",
       "      <th>BMI</th>\n",
       "      <th>Smoking</th>\n",
       "      <th>AlcoholDrinking</th>\n",
       "      <th>Stroke</th>\n",
       "      <th>PhysicalHealth</th>\n",
       "      <th>MentalHealth</th>\n",
       "      <th>DiffWalking</th>\n",
       "      <th>Sex</th>\n",
       "      <th>AgeCategory</th>\n",
       "      <th>Race</th>\n",
       "      <th>Diabetic</th>\n",
       "      <th>PhysicalActivity</th>\n",
       "      <th>GenHealth</th>\n",
       "      <th>SleepTime</th>\n",
       "      <th>Asthma</th>\n",
       "      <th>KidneyDisease</th>\n",
       "      <th>SkinCancer</th>\n",
       "    </tr>\n",
       "  </thead>\n",
       "  <tbody>\n",
       "    <tr>\n",
       "      <th>0</th>\n",
       "      <td>0</td>\n",
       "      <td>16.60</td>\n",
       "      <td>1</td>\n",
       "      <td>0</td>\n",
       "      <td>0</td>\n",
       "      <td>3.0</td>\n",
       "      <td>30.0</td>\n",
       "      <td>0</td>\n",
       "      <td>0</td>\n",
       "      <td>7</td>\n",
       "      <td>5</td>\n",
       "      <td>1</td>\n",
       "      <td>1</td>\n",
       "      <td>4</td>\n",
       "      <td>5.0</td>\n",
       "      <td>1</td>\n",
       "      <td>0</td>\n",
       "      <td>1</td>\n",
       "    </tr>\n",
       "    <tr>\n",
       "      <th>1</th>\n",
       "      <td>0</td>\n",
       "      <td>20.34</td>\n",
       "      <td>0</td>\n",
       "      <td>0</td>\n",
       "      <td>1</td>\n",
       "      <td>0.0</td>\n",
       "      <td>0.0</td>\n",
       "      <td>0</td>\n",
       "      <td>0</td>\n",
       "      <td>12</td>\n",
       "      <td>5</td>\n",
       "      <td>0</td>\n",
       "      <td>1</td>\n",
       "      <td>4</td>\n",
       "      <td>7.0</td>\n",
       "      <td>0</td>\n",
       "      <td>0</td>\n",
       "      <td>0</td>\n",
       "    </tr>\n",
       "    <tr>\n",
       "      <th>2</th>\n",
       "      <td>0</td>\n",
       "      <td>26.58</td>\n",
       "      <td>1</td>\n",
       "      <td>0</td>\n",
       "      <td>0</td>\n",
       "      <td>20.0</td>\n",
       "      <td>30.0</td>\n",
       "      <td>0</td>\n",
       "      <td>1</td>\n",
       "      <td>9</td>\n",
       "      <td>5</td>\n",
       "      <td>1</td>\n",
       "      <td>1</td>\n",
       "      <td>1</td>\n",
       "      <td>8.0</td>\n",
       "      <td>1</td>\n",
       "      <td>0</td>\n",
       "      <td>0</td>\n",
       "    </tr>\n",
       "    <tr>\n",
       "      <th>3</th>\n",
       "      <td>0</td>\n",
       "      <td>24.21</td>\n",
       "      <td>0</td>\n",
       "      <td>0</td>\n",
       "      <td>0</td>\n",
       "      <td>0.0</td>\n",
       "      <td>0.0</td>\n",
       "      <td>0</td>\n",
       "      <td>0</td>\n",
       "      <td>11</td>\n",
       "      <td>5</td>\n",
       "      <td>0</td>\n",
       "      <td>0</td>\n",
       "      <td>2</td>\n",
       "      <td>7.0</td>\n",
       "      <td>0</td>\n",
       "      <td>0</td>\n",
       "      <td>1</td>\n",
       "    </tr>\n",
       "    <tr>\n",
       "      <th>4</th>\n",
       "      <td>0</td>\n",
       "      <td>23.71</td>\n",
       "      <td>0</td>\n",
       "      <td>0</td>\n",
       "      <td>0</td>\n",
       "      <td>28.0</td>\n",
       "      <td>0.0</td>\n",
       "      <td>1</td>\n",
       "      <td>0</td>\n",
       "      <td>4</td>\n",
       "      <td>5</td>\n",
       "      <td>1</td>\n",
       "      <td>1</td>\n",
       "      <td>4</td>\n",
       "      <td>8.0</td>\n",
       "      <td>1</td>\n",
       "      <td>0</td>\n",
       "      <td>0</td>\n",
       "    </tr>\n",
       "    <tr>\n",
       "      <th>5</th>\n",
       "      <td>1</td>\n",
       "      <td>28.87</td>\n",
       "      <td>1</td>\n",
       "      <td>0</td>\n",
       "      <td>0</td>\n",
       "      <td>6.0</td>\n",
       "      <td>0.0</td>\n",
       "      <td>1</td>\n",
       "      <td>0</td>\n",
       "      <td>11</td>\n",
       "      <td>2</td>\n",
       "      <td>0</td>\n",
       "      <td>0</td>\n",
       "      <td>1</td>\n",
       "      <td>12.0</td>\n",
       "      <td>0</td>\n",
       "      <td>0</td>\n",
       "      <td>0</td>\n",
       "    </tr>\n",
       "    <tr>\n",
       "      <th>6</th>\n",
       "      <td>0</td>\n",
       "      <td>21.63</td>\n",
       "      <td>0</td>\n",
       "      <td>0</td>\n",
       "      <td>0</td>\n",
       "      <td>15.0</td>\n",
       "      <td>0.0</td>\n",
       "      <td>0</td>\n",
       "      <td>0</td>\n",
       "      <td>10</td>\n",
       "      <td>5</td>\n",
       "      <td>0</td>\n",
       "      <td>1</td>\n",
       "      <td>1</td>\n",
       "      <td>4.0</td>\n",
       "      <td>1</td>\n",
       "      <td>0</td>\n",
       "      <td>1</td>\n",
       "    </tr>\n",
       "    <tr>\n",
       "      <th>7</th>\n",
       "      <td>0</td>\n",
       "      <td>31.64</td>\n",
       "      <td>1</td>\n",
       "      <td>0</td>\n",
       "      <td>0</td>\n",
       "      <td>5.0</td>\n",
       "      <td>0.0</td>\n",
       "      <td>1</td>\n",
       "      <td>0</td>\n",
       "      <td>12</td>\n",
       "      <td>5</td>\n",
       "      <td>1</td>\n",
       "      <td>0</td>\n",
       "      <td>2</td>\n",
       "      <td>9.0</td>\n",
       "      <td>1</td>\n",
       "      <td>0</td>\n",
       "      <td>0</td>\n",
       "    </tr>\n",
       "    <tr>\n",
       "      <th>8</th>\n",
       "      <td>0</td>\n",
       "      <td>26.45</td>\n",
       "      <td>0</td>\n",
       "      <td>0</td>\n",
       "      <td>0</td>\n",
       "      <td>0.0</td>\n",
       "      <td>0.0</td>\n",
       "      <td>0</td>\n",
       "      <td>0</td>\n",
       "      <td>12</td>\n",
       "      <td>5</td>\n",
       "      <td>0</td>\n",
       "      <td>0</td>\n",
       "      <td>1</td>\n",
       "      <td>5.0</td>\n",
       "      <td>0</td>\n",
       "      <td>1</td>\n",
       "      <td>0</td>\n",
       "    </tr>\n",
       "    <tr>\n",
       "      <th>9</th>\n",
       "      <td>0</td>\n",
       "      <td>40.69</td>\n",
       "      <td>0</td>\n",
       "      <td>0</td>\n",
       "      <td>0</td>\n",
       "      <td>0.0</td>\n",
       "      <td>0.0</td>\n",
       "      <td>1</td>\n",
       "      <td>1</td>\n",
       "      <td>9</td>\n",
       "      <td>5</td>\n",
       "      <td>0</td>\n",
       "      <td>1</td>\n",
       "      <td>2</td>\n",
       "      <td>10.0</td>\n",
       "      <td>0</td>\n",
       "      <td>0</td>\n",
       "      <td>0</td>\n",
       "    </tr>\n",
       "  </tbody>\n",
       "</table>\n",
       "</div>"
      ],
      "text/plain": [
       "   HeartDisease    BMI  Smoking  AlcoholDrinking  Stroke  PhysicalHealth  \\\n",
       "0             0  16.60        1                0       0             3.0   \n",
       "1             0  20.34        0                0       1             0.0   \n",
       "2             0  26.58        1                0       0            20.0   \n",
       "3             0  24.21        0                0       0             0.0   \n",
       "4             0  23.71        0                0       0            28.0   \n",
       "5             1  28.87        1                0       0             6.0   \n",
       "6             0  21.63        0                0       0            15.0   \n",
       "7             0  31.64        1                0       0             5.0   \n",
       "8             0  26.45        0                0       0             0.0   \n",
       "9             0  40.69        0                0       0             0.0   \n",
       "\n",
       "   MentalHealth  DiffWalking  Sex  AgeCategory  Race  Diabetic  \\\n",
       "0          30.0            0    0            7     5         1   \n",
       "1           0.0            0    0           12     5         0   \n",
       "2          30.0            0    1            9     5         1   \n",
       "3           0.0            0    0           11     5         0   \n",
       "4           0.0            1    0            4     5         1   \n",
       "5           0.0            1    0           11     2         0   \n",
       "6           0.0            0    0           10     5         0   \n",
       "7           0.0            1    0           12     5         1   \n",
       "8           0.0            0    0           12     5         0   \n",
       "9           0.0            1    1            9     5         0   \n",
       "\n",
       "   PhysicalActivity  GenHealth  SleepTime  Asthma  KidneyDisease  SkinCancer  \n",
       "0                 1          4        5.0       1              0           1  \n",
       "1                 1          4        7.0       0              0           0  \n",
       "2                 1          1        8.0       1              0           0  \n",
       "3                 0          2        7.0       0              0           1  \n",
       "4                 1          4        8.0       1              0           0  \n",
       "5                 0          1       12.0       0              0           0  \n",
       "6                 1          1        4.0       1              0           1  \n",
       "7                 0          2        9.0       1              0           0  \n",
       "8                 0          1        5.0       0              1           0  \n",
       "9                 1          2       10.0       0              0           0  "
      ]
     },
     "execution_count": 3,
     "metadata": {},
     "output_type": "execute_result"
    }
   ],
   "source": [
    "df.head(10)"
   ]
  },
  {
   "cell_type": "markdown",
   "metadata": {},
   "source": [
    "### 2. Entrenamiento"
   ]
  },
  {
   "cell_type": "markdown",
   "metadata": {},
   "source": [
    "- Sacando muestras:"
   ]
  },
  {
   "cell_type": "code",
   "execution_count": 4,
   "metadata": {},
   "outputs": [],
   "source": [
    "# Se separa la columna con la información de los sobrevivientes\n",
    "y = df['HeartDisease']\n",
    "X = df.drop('HeartDisease', axis=1)"
   ]
  },
  {
   "cell_type": "code",
   "execution_count": 5,
   "metadata": {},
   "outputs": [],
   "source": [
    "# Se separan los datos de \"train\" en entrenamiento y prueba para probar los algoritmos\n",
    "X_train, X_test, y_train, y_test = train_test_split(X, y, test_size=0.2, random_state=42)\n"
   ]
  },
  {
   "cell_type": "markdown",
   "metadata": {},
   "source": [
    "- Estandarización:"
   ]
  },
  {
   "cell_type": "code",
   "execution_count": 6,
   "metadata": {},
   "outputs": [],
   "source": [
    "scaler = StandardScaler()\n",
    "\n",
    "# Scale trainint data\n",
    "X_train = scaler.fit_transform(X_train)\n",
    "\n",
    "# Scale test data\n",
    "X_test = scaler.fit_transform(X_test)"
   ]
  },
  {
   "cell_type": "markdown",
   "metadata": {},
   "source": [
    "### 3. Modelos"
   ]
  },
  {
   "cell_type": "markdown",
   "metadata": {},
   "source": [
    "- Función para evaluar los modelos:"
   ]
  },
  {
   "cell_type": "code",
   "execution_count": 7,
   "metadata": {},
   "outputs": [],
   "source": [
    "def evaluate_model(model, x_test, y_test):\n",
    "    # Predict Test Data \n",
    "    y_pred = model.predict(x_test)\n",
    "\n",
    "    # Calculate accuracy, precision, recall, f1-score, and kappa score\n",
    "    acc = metrics.accuracy_score(y_test, y_pred)\n",
    "    prec = metrics.precision_score(y_test, y_pred)\n",
    "    rec = metrics.recall_score(y_test, y_pred)\n",
    "    f1 = metrics.f1_score(y_test, y_pred)\n",
    "    kappa = metrics.cohen_kappa_score(y_test, y_pred)\n",
    "\n",
    "    # Calculate area under curve (AUC)\n",
    "    y_pred_proba = model.predict_proba(x_test)[::,1]\n",
    "    fpr, tpr, _ = metrics.roc_curve(y_test, y_pred_proba)\n",
    "    auc = metrics.roc_auc_score(y_test, y_pred_proba)\n",
    "\n",
    "    # Display confussion matrix\n",
    "    cm = metrics.confusion_matrix(y_test, y_pred)\n",
    "\n",
    "    return {'acc': acc, 'prec': prec, 'rec': rec, 'f1': f1, 'kappa': kappa, \n",
    "            'fpr': fpr, 'tpr': tpr, 'auc': auc, 'cm': cm}"
   ]
  },
  {
   "cell_type": "markdown",
   "metadata": {},
   "source": [
    "- Función para imprimir las métricas"
   ]
  },
  {
   "cell_type": "code",
   "execution_count": 8,
   "metadata": {},
   "outputs": [],
   "source": [
    "def imprimir_resultados(modelo_eval):\n",
    "    print('Accuracy:', modelo_eval['acc'])\n",
    "    print('Precision:', modelo_eval['prec'])\n",
    "    print('Recall:', modelo_eval['rec'])\n",
    "    print('F1 Score:', modelo_eval['f1'])\n",
    "    print('Cohens Kappa Score:', modelo_eval['kappa'])\n",
    "    print('Area Under Curve:', modelo_eval['auc'])\n",
    "    print('Confusion Matrix:\\n', modelo_eval['cm'])"
   ]
  },
  {
   "cell_type": "markdown",
   "metadata": {},
   "source": [
    "#### 3.1. Regresión logística"
   ]
  },
  {
   "cell_type": "code",
   "execution_count": 9,
   "metadata": {},
   "outputs": [
    {
     "name": "stdout",
     "output_type": "stream",
     "text": [
      "Accuracy: 0.912881689832549\n",
      "Precision: 0.5108225108225108\n",
      "Recall: 0.0844062947067239\n",
      "F1 Score: 0.1448741559238797\n",
      "Cohens Kappa Score: 0.12313107569833648\n",
      "Area Under Curve: 0.8255755666508892\n",
      "Confusion Matrix:\n",
      " [[57915   452]\n",
      " [ 5120   472]]\n"
     ]
    }
   ],
   "source": [
    "logreg = LogisticRegression(random_state=0, max_iter=1000)\n",
    "logreg.fit(X_train, y_train)\n",
    "\n",
    "# Evaluar modelo\n",
    "logreg_eval = evaluate_model(logreg, X_test, y_test)\n",
    "\n",
    "# Resultados\n",
    "imprimir_resultados(logreg_eval)"
   ]
  },
  {
   "cell_type": "markdown",
   "metadata": {},
   "source": [
    "#### 3.2. Vecinos más cercanos"
   ]
  },
  {
   "cell_type": "code",
   "execution_count": 10,
   "metadata": {},
   "outputs": [
    {
     "name": "stdout",
     "output_type": "stream",
     "text": [
      "Accuracy: 0.9040010006410356\n",
      "Precision: 0.36244979919678716\n",
      "Recall: 0.12911301859799715\n",
      "F1 Score: 0.19040084388185657\n",
      "Cohens Kappa Score: 0.151426767548428\n",
      "Area Under Curve: 0.701154579504121\n",
      "Confusion Matrix:\n",
      " [[57097  1270]\n",
      " [ 4870   722]]\n"
     ]
    }
   ],
   "source": [
    "knn = KNeighborsClassifier(n_neighbors = 5)\n",
    "\n",
    "knn.fit(X_train, y_train)\n",
    "\n",
    "# Evaluar modelo\n",
    "knn_eval = evaluate_model(knn, X_test, y_test)\n",
    "\n",
    "# Resultados\n",
    "imprimir_resultados(knn_eval)"
   ]
  },
  {
   "cell_type": "markdown",
   "metadata": {},
   "source": [
    "#### 3.3. Árbol de decisión"
   ]
  },
  {
   "cell_type": "code",
   "execution_count": 11,
   "metadata": {},
   "outputs": [
    {
     "name": "stdout",
     "output_type": "stream",
     "text": [
      "Accuracy: 0.8606451007676793\n",
      "Precision: 0.2264865755229781\n",
      "Recall: 0.24588698140200285\n",
      "F1 Score: 0.23578839063705734\n",
      "Cohens Kappa Score: 0.15926298910113368\n",
      "Area Under Curve: 0.5846675678877964\n",
      "Confusion Matrix:\n",
      " [[53671  4696]\n",
      " [ 4217  1375]]\n"
     ]
    }
   ],
   "source": [
    "#Entrenamiento\n",
    "decision_tree = DecisionTreeClassifier(random_state=False)\n",
    "decision_tree.fit(X_train, y_train)\n",
    "\n",
    "# Evaluar modelo\n",
    "decision_tree_eval = evaluate_model(decision_tree, X_test, y_test)\n",
    "\n",
    "# Resultados\n",
    "imprimir_resultados(decision_tree_eval)"
   ]
  },
  {
   "cell_type": "markdown",
   "metadata": {},
   "source": [
    "#### 3.4. Redes neuronales"
   ]
  },
  {
   "cell_type": "code",
   "execution_count": 12,
   "metadata": {},
   "outputs": [
    {
     "name": "stdout",
     "output_type": "stream",
     "text": [
      "Accuracy: 0.9138823308682125\n",
      "Precision: 0.5549738219895288\n",
      "Recall: 0.07582260371959942\n",
      "F1 Score: 0.13341724354940213\n",
      "Cohens Kappa Score: 0.11481177586662983\n",
      "Area Under Curve: 0.8262913858937035\n",
      "Confusion Matrix:\n",
      " [[58027   340]\n",
      " [ 5168   424]]\n"
     ]
    }
   ],
   "source": [
    "#Entrenamiento\n",
    "neunet = MLPClassifier(alpha=1, max_iter=500)\n",
    "neunet.fit(X_train, y_train)\n",
    "\n",
    "#Evaluar modelo\n",
    "neunet_eval = evaluate_model(neunet, X_test, y_test)\n",
    "\n",
    "# Resultados\n",
    "imprimir_resultados(neunet_eval)"
   ]
  },
  {
   "cell_type": "markdown",
   "metadata": {},
   "source": [
    "#### 3.5. Máquina  de  vectores  de soporte"
   ]
  },
  {
   "cell_type": "code",
   "execution_count": 13,
   "metadata": {},
   "outputs": [
    {
     "name": "stderr",
     "output_type": "stream",
     "text": [
      "c:\\Python310\\lib\\site-packages\\sklearn\\svm\\_base.py:301: ConvergenceWarning: Solver terminated early (max_iter=500).  Consider pre-processing your data with StandardScaler or MinMaxScaler.\n",
      "  warnings.warn(\n"
     ]
    },
    {
     "name": "stdout",
     "output_type": "stream",
     "text": [
      "Accuracy: 0.845557310151816\n",
      "Precision: 0.06513798701298701\n",
      "Recall: 0.05740343347639485\n",
      "F1 Score: 0.061026615969581754\n",
      "Cohens Kappa Score: -0.022749396403559663\n",
      "Area Under Curve: 0.3746328697651947\n",
      "Confusion Matrix:\n",
      " [[53760  4607]\n",
      " [ 5271   321]]\n"
     ]
    }
   ],
   "source": [
    "#Entrenamiento\n",
    "SVM = SVC(probability=True, max_iter=500)\n",
    "SVM.fit(X_train, y_train)\n",
    "\n",
    "#Evaluar modelo\n",
    "SVM_eval = evaluate_model(SVM, X_test, y_test)\n",
    "\n",
    "# Resultados\n",
    "imprimir_resultados(SVM_eval)"
   ]
  },
  {
   "cell_type": "markdown",
   "metadata": {},
   "source": [
    "#### 3.6. Bosques aleatorios"
   ]
  },
  {
   "cell_type": "code",
   "execution_count": 14,
   "metadata": {},
   "outputs": [
    {
     "name": "stdout",
     "output_type": "stream",
     "text": [
      "Accuracy: 0.9019684485373443\n",
      "Precision: 0.327217125382263\n",
      "Recall: 0.1148068669527897\n",
      "F1 Score: 0.16997617156473394\n",
      "Cohens Kappa Score: 0.13048551662722574\n",
      "Area Under Curve: 0.735979623029583\n",
      "Confusion Matrix:\n",
      " [[57047  1320]\n",
      " [ 4950   642]]\n"
     ]
    }
   ],
   "source": [
    "#Entrenamiento\n",
    "rng = np.random.RandomState(0)\n",
    "randomF = RandomForestClassifier(n_estimators=10, random_state=rng)\n",
    "randomF.fit(X_train, y_train)\n",
    "\n",
    "#Evaluar modelo\n",
    "randomF_eval = evaluate_model(randomF, X_test, y_test)\n",
    "\n",
    "# Resultados\n",
    "imprimir_resultados(randomF_eval)\n"
   ]
  },
  {
   "cell_type": "markdown",
   "metadata": {},
   "source": [
    "#### 3.7. Naive-Bayes"
   ]
  },
  {
   "cell_type": "code",
   "execution_count": 15,
   "metadata": {},
   "outputs": [
    {
     "name": "stdout",
     "output_type": "stream",
     "text": [
      "Accuracy: 0.8452133397958067\n",
      "Precision: 0.26868556701030927\n",
      "Recall: 0.44742489270386265\n",
      "F1 Score: 0.3357487922705314\n",
      "Cohens Kappa Score: 0.25427576023808596\n",
      "Area Under Curve: 0.7990070041243885\n",
      "Confusion Matrix:\n",
      " [[51557  6810]\n",
      " [ 3090  2502]]\n"
     ]
    }
   ],
   "source": [
    "#Entrenamiento\n",
    "naiveB = GaussianNB()\n",
    "naiveB.fit(X_train, y_train)\n",
    "\n",
    "#Evaluar modelo\n",
    "naiveB_eval = evaluate_model(naiveB, X_test, y_test)\n",
    "\n",
    "# Resultados\n",
    "imprimir_resultados(naiveB_eval)"
   ]
  },
  {
   "cell_type": "markdown",
   "metadata": {},
   "source": [
    "### 4. Comparación"
   ]
  },
  {
   "cell_type": "code",
   "execution_count": 18,
   "metadata": {},
   "outputs": [
    {
     "data": {
      "image/png": "[encoded data removed]",
      "text/plain": [
       "<Figure size 1296x648 with 2 Axes>"
      ]
     },
     "metadata": {},
     "output_type": "display_data"
    }
   ],
   "source": [
    "# Intitialize figure with two plots\n",
    "fig, (ax1, ax2) = plt.subplots(1, 2)\n",
    "fig.suptitle('Comparación de modelos', fontsize=16, fontweight='bold')\n",
    "fig.set_figheight(9)\n",
    "fig.set_figwidth(18)\n",
    "fig.set_facecolor('white')\n",
    "\n",
    "# First plot\n",
    "## set bar size\n",
    "barWidth = 0.1\n",
    "logreg_score = [logreg_eval['acc'], logreg_eval['prec'], logreg_eval['rec'], logreg_eval['f1'], logreg_eval['kappa']]\n",
    "knn_score = [knn_eval['acc'], knn_eval['prec'], knn_eval['rec'], knn_eval['f1'], knn_eval['kappa']]\n",
    "decision_tree_score = [decision_tree_eval['acc'], decision_tree_eval['prec'], decision_tree_eval['rec'], decision_tree_eval['f1'], decision_tree_eval['kappa']]\n",
    "neunet_score = [neunet_eval['acc'], neunet_eval['prec'], neunet_eval['rec'], neunet_eval['f1'], neunet_eval['kappa']]\n",
    "SVM_score = [SVM_eval['acc'], SVM_eval['prec'], SVM_eval['rec'], SVM_eval['f1'], SVM_eval['kappa']]\n",
    "randomF_score = [randomF_eval['acc'], randomF_eval['prec'], randomF_eval['rec'], randomF_eval['f1'], randomF_eval['kappa']]\n",
    "naiveB_score = [naiveB_eval['acc'], naiveB_eval['prec'], naiveB_eval['rec'], naiveB_eval['f1'], naiveB_eval['kappa']]\n",
    "\n",
    "\n",
    "## Set position of bar on X axis\n",
    "r1 = np.arange(len(logreg_score))\n",
    "r2 = [x + barWidth for x in r1]\n",
    "r3 = [x + barWidth for x in r2]\n",
    "r4 = [x + barWidth for x in r3]\n",
    "r5 = [x + barWidth for x in r4]\n",
    "r6 = [x + barWidth for x in r5]\n",
    "r7 = [x + barWidth for x in r6]\n",
    "\n",
    "## Make the plot\n",
    "ax1.bar(r1, logreg_score, width=barWidth, edgecolor='white', label='Regresión logística')\n",
    "ax1.bar(r2, knn_score, width=barWidth, edgecolor='white', label='Vecinos más cercanos')\n",
    "ax1.bar(r3, decision_tree_score, width=barWidth, edgecolor='white', label='Árbol de decisión')\n",
    "ax1.bar(r4, neunet_score, width=barWidth, edgecolor='white', label='Redes Neuronales')\n",
    "ax1.bar(r5, SVM_score, width=barWidth, edgecolor='white', label='SVM')\n",
    "ax1.bar(r6, randomF_score, width=barWidth, edgecolor='white', label='Bosques aleatorios')\n",
    "ax1.bar(r7, naiveB_score, width=barWidth, edgecolor='white', label='Naive-Bayes')\n",
    "\n",
    "## Configure x and y axis\n",
    "ax1.set_xlabel('Metricas', fontweight='bold')\n",
    "labels = ['Accuracy', 'Precision', 'Recall', 'F1', 'Kappa']\n",
    "ax1.set_xticks([r + (barWidth * 1.5) for r in range(len(logreg_score))], )\n",
    "ax1.set_xticklabels(labels)\n",
    "ax1.set_ylabel('Puntaje', fontweight='bold')\n",
    "ax1.set_ylim(0, 1)\n",
    "\n",
    "## Create legend & title\n",
    "ax1.set_title('Métricas de evaluación', fontsize=14, fontweight='bold')\n",
    "ax1.legend()\n",
    "\n",
    "# Second plot\n",
    "## Comparing ROC Curve\n",
    "ax2.plot(logreg_eval['fpr'], logreg_eval['tpr'], label='Regresión logística, auc = {:0.5f}'.format(logreg_eval['auc']))\n",
    "ax2.plot(knn_eval['fpr'], knn_eval['tpr'], label='Vecinos más cercanos, auc = {:0.5f}'.format(knn_eval['auc']))\n",
    "ax2.plot(decision_tree_eval['fpr'], decision_tree_eval['tpr'], label='Árbol de decisión, auc = {:0.5f}'.format(decision_tree_eval['auc']))\n",
    "ax2.plot(neunet_eval['fpr'], neunet_eval['tpr'], label='Redes Neuronales, auc = {:0.5f}'.format(neunet_eval['auc']))\n",
    "ax2.plot(SVM_eval['fpr'], SVM_eval['tpr'], label='SVM, auc = {:0.5f}'.format(SVM_eval['auc']))\n",
    "ax2.plot(randomF_eval['fpr'], randomF_eval['tpr'], label='Bosques aleatorios, auc = {:0.5f}'.format(randomF_eval['auc']))\n",
    "ax2.plot(naiveB_eval['fpr'], naiveB_eval['tpr'], label='Naive-Bayes, auc = {:0.5f}'.format(naiveB_eval['auc']))\n",
    "\n",
    "## Configure x and y axis\n",
    "ax2.set_xlabel('Tasa de falsos positivos', fontweight='bold')\n",
    "ax2.set_ylabel('Tasa de verdaderos positivos', fontweight='bold')\n",
    "\n",
    "## Create legend & title\n",
    "ax2.set_title('Curva ROC', fontsize=14, fontweight='bold')\n",
    "ax2.legend(loc=4)\n",
    "\n",
    "plt.show()"
   ]
  }
 ],
 "metadata": {
  "kernelspec": {
   "display_name": "Python 3.10.6 64-bit",
   "language": "python",
   "name": "python3"
  },
  "language_info": {
   "codemirror_mode": {
    "name": "ipython",
    "version": 3
   },
   "file_extension": ".py",
   "mimetype": "text/x-python",
   "name": "python",
   "nbconvert_exporter": "python",
   "pygments_lexer": "ipython3",
   "version": "3.10.6"
  },
  "orig_nbformat": 4,
  "vscode": {
   "interpreter": {
    "hash": "369f2c481f4da34e4445cda3fffd2e751bd1c4d706f27375911949ba6bb62e1c"
   }
  }
 },
 "nbformat": 4,
 "nbformat_minor": 2
}
